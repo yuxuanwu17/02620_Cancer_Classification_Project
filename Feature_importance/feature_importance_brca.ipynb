{
 "cells": [
  {
   "cell_type": "code",
   "execution_count": 5,
   "id": "4536efa5-2a88-4b64-8f4a-ccb95e28120c",
   "metadata": {},
   "outputs": [],
   "source": [
    "import pandas as pd\n",
    "import numpy as np\n",
    "\n",
    "from sklearn.preprocessing import StandardScaler\n",
    "from sklearn.model_selection import LeaveOneOut\n",
    "from sklearn.pipeline import Pipeline\n",
    "from sklearn.metrics import accuracy_score\n",
    "from sklearn.linear_model import LogisticRegression\n",
    "from sklearn.ensemble import AdaBoostClassifier\n",
    "from sklearn.tree import DecisionTreeClassifier\n",
    "from sklearn.feature_selection import SelectKBest, chi2, f_classif\n",
    "\n",
    "from multiprocessing import Pool\n",
    "\n",
    "import warnings\n",
    "warnings.filterwarnings('ignore')\n",
    "\n",
    "import plotly.graph_objects as go"
   ]
  },
  {
   "cell_type": "code",
   "execution_count": 6,
   "id": "4ac2e146-17ea-4702-b3f6-b37850af13ba",
   "metadata": {},
   "outputs": [],
   "source": [
    "brca = pd.read_csv(\"BRCA_original.tsv\", sep = \"\\t\").T.reset_index()\n",
    "\n",
    "brca.columns = brca.iloc[0]\n",
    "\n",
    "brca['Y'] = brca['Ensembl_ID'].apply(lambda x:1 if x[-3:] == \"11A\" else 0)\n",
    "\n",
    "brca = brca.drop([0])\n",
    "\n",
    "y = brca['Y'].to_numpy()\n",
    "X = brca.drop(columns = ['Ensembl_ID', 'Y']).to_numpy()\n",
    "scaler = StandardScaler()\n",
    "X = scaler.fit_transform(X)\n",
    "selector = SelectKBest(f_classif, k=3422).fit(X, y)\n",
    "X = selector.transform(X)\n",
    "\n",
    "selected_columns = brca.drop(columns = ['Ensembl_ID', 'Y']).columns[selector.get_support()].to_list()\n",
    "\n",
    "gene_name_df = pd.read_csv(\"brca_gene_name.txt\", sep = \"\\t\")"
   ]
  },
  {
   "cell_type": "code",
   "execution_count": 7,
   "id": "20121769-bdf6-4261-9dc3-607b2199e2b9",
   "metadata": {},
   "outputs": [],
   "source": [
    "clf = DecisionTreeClassifier(random_state = 42, class_weight = 'balanced')\n",
    "clf.fit(X, y)\n",
    "clf.feature_importances_\n",
    "features_from_decision_tree = sorted([(i, j) for i, j in zip(selected_columns, list(clf.feature_importances_)) if j>0 ], key = lambda x:-x[-1])\n",
    "\n",
    "dt_df = pd.DataFrame(features_from_decision_tree, columns = ['id', 'importance_score'])\n",
    "dt_df = pd.merge(dt_df, gene_name_df, how = 'left', on = 'id')\n",
    "dt_df.to_csv(\"decision_tree_importance_gene_brca.csv\")"
   ]
  },
  {
   "cell_type": "code",
   "execution_count": 8,
   "id": "ebf4893e-81f5-4d72-8e0d-077a144fc98d",
   "metadata": {},
   "outputs": [],
   "source": [
    "clf = AdaBoostClassifier(n_estimators = 1000, random_state = 42)\n",
    "clf.fit(X, y)\n",
    "clf.feature_importances_\n",
    "features_from_adaboost = sorted([(i, j) for i, j in zip(selected_columns, list(clf.feature_importances_)) if j>0 ], key = lambda x:-x[-1])\n",
    "\n",
    "adaboost_df = pd.DataFrame(features_from_adaboost, columns = ['id', 'importance_score'])\n",
    "adaboost_df = pd.merge(adaboost_df, gene_name_df, how = 'left', on = 'id')\n",
    "adaboost_df.to_csv(\"adaboost_importance_gene_brca.csv\")"
   ]
  },
  {
   "cell_type": "code",
   "execution_count": 32,
   "id": "60ed70a4-b8ce-4c67-a833-05cdd7d4f9b6",
   "metadata": {},
   "outputs": [
    {
     "data": {
      "text/plain": [
       "{'MAGED1'}"
      ]
     },
     "execution_count": 32,
     "metadata": {},
     "output_type": "execute_result"
    }
   ],
   "source": [
    "set(adaboost_df['gene']) & set(dt_df['gene'])"
   ]
  },
  {
   "cell_type": "code",
   "execution_count": 9,
   "id": "1266f133-6771-4b8a-bb40-81681e965c93",
   "metadata": {},
   "outputs": [
    {
     "data": {
      "text/plain": [
       "array([[-0.00649354,  0.00291677, -0.00286064, ...,  0.00172979,\n",
       "         0.00504998,  0.0116035 ]])"
      ]
     },
     "execution_count": 9,
     "metadata": {},
     "output_type": "execute_result"
    }
   ],
   "source": [
    "clf = LogisticRegression(random_state=42)\n",
    "clf.fit(X, y)\n",
    "clf.coef_"
   ]
  },
  {
   "cell_type": "code",
   "execution_count": null,
   "id": "ae7b92b2-7f32-4f5e-adfd-0d90fba913c0",
   "metadata": {},
   "outputs": [],
   "source": []
  }
 ],
 "metadata": {
  "kernelspec": {
   "display_name": "Python 3 (ipykernel)",
   "language": "python",
   "name": "python3"
  },
  "language_info": {
   "codemirror_mode": {
    "name": "ipython",
    "version": 3
   },
   "file_extension": ".py",
   "mimetype": "text/x-python",
   "name": "python",
   "nbconvert_exporter": "python",
   "pygments_lexer": "ipython3",
   "version": "3.9.7"
  }
 },
 "nbformat": 4,
 "nbformat_minor": 5
}
