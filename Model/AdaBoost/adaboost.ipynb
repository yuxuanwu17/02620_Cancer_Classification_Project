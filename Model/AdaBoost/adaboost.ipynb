{
 "cells": [
  {
   "cell_type": "code",
   "execution_count": 3,
   "id": "d70612c8-f56d-48dc-a98f-0f3eada3db99",
   "metadata": {},
   "outputs": [],
   "source": [
    "from sklearn.ensemble import AdaBoostClassifier\n",
    "from sklearn.datasets import make_classification\n",
    "from sklearn.tree import DecisionTreeClassifier\n",
    "from sklearn.metrics import accuracy_score\n",
    "from sklearn.preprocessing import StandardScaler\n",
    "from sklearn.model_selection import train_test_split\n",
    "\n",
    "import pandas as pd\n",
    "import numpy as np"
   ]
  },
  {
   "cell_type": "code",
   "execution_count": 9,
   "id": "2ad2fdaa-5b25-4f32-9b71-a122d32dbc56",
   "metadata": {},
   "outputs": [],
   "source": [
    "class AdaBoost:\n",
    "    from sklearn.tree import DecisionTreeClassifier\n",
    "    def __init__(self, n_estimators = 10):\n",
    "        self.n_estimators = n_estimators\n",
    "        self.base_classifiers= None\n",
    "        self.classifier_weights = None\n",
    "        self.sample_weights = None\n",
    "        self.error_log = None\n",
    "\n",
    "    def fit(self, X, y):\n",
    "        y = np.array([-1 if i == 0 else 1 for i in y])\n",
    "        \n",
    "        self.n_samples = X.shape[0]      \n",
    "        self.sample_weights = np.zeros((self.n_estimators, self.n_samples))\n",
    "        self.base_classifiers = []\n",
    "        self.classifier_weights = np.zeros(self.n_estimators)\n",
    "        self.error_log = np.zeros(self.n_estimators)\n",
    "\n",
    "        self.sample_weights[0] = np.ones(self.n_samples) / self.n_samples\n",
    "\n",
    "        for t in range(self.n_estimators):\n",
    "            base_classifier = DecisionTreeClassifier(max_depth=1, max_leaf_nodes=2)\\\n",
    "                    .fit(X, y, sample_weight=self.sample_weights[t])\n",
    "\n",
    "            pred = base_classifier.predict(X)\n",
    "            error = self.sample_weights[t][(pred != y)].sum()\n",
    "            classifier_weight = np.log((1 - error) / error) / 2\n",
    "\n",
    "            new_sample_weights = (self.sample_weights[t]*np.exp(-classifier_weight*y*pred))\n",
    "            new_sample_weights /= new_sample_weights.sum()\n",
    "\n",
    "            if t+1 < self.n_estimators:\n",
    "                self.sample_weights[t+1] = new_sample_weights\n",
    "\n",
    "            self.base_classifiers.append(base_classifier)\n",
    "            self.classifier_weights[t] = classifier_weight\n",
    "            self.error_log[t] = error\n",
    "\n",
    "        return self\n",
    "    \n",
    "    def predict(self, X):\n",
    "        \"\"\" Make predictions using already fitted model \"\"\"\n",
    "        preds = np.array([classifier.predict(X) for classifier in self.base_classifiers])\n",
    "        y = np.sign(np.dot(self.classifier_weights, preds))\n",
    "        return np.array([0 if i == -1 else 1 for i in y])"
   ]
  },
  {
   "cell_type": "code",
   "execution_count": 5,
   "id": "b3d2f1dc-5b05-4747-9334-9c8c11c2e90a",
   "metadata": {},
   "outputs": [],
   "source": [
    "luad = pd.read_csv(\"LUAD.txt\", sep = \"\\t\").T.reset_index()\n",
    "brca = pd.read_csv(\"BRCA.txt\", sep = \"\\t\").T.reset_index()\n",
    "\n",
    "brca['Y'] = brca['index'].apply(lambda x:1 if x[-3:] == \"11A\" else 0)\n",
    "luad['Y'] = luad['index'].apply(lambda x:1 if x[-3:] == \"11A\" else 0)"
   ]
  },
  {
   "cell_type": "code",
   "execution_count": 6,
   "id": "420acb50-966d-4000-87cd-e9d7ed818663",
   "metadata": {},
   "outputs": [],
   "source": [
    "y = brca['Y'].to_numpy()\n",
    "X = brca.drop(columns = ['index', 'Y']).to_numpy()\n",
    "scaler = StandardScaler()\n",
    "X = scaler.fit_transform(X)\n",
    "\n",
    "X_train, X_test, y_train, y_test = train_test_split(X, y, test_size=0.33, random_state=42)"
   ]
  },
  {
   "cell_type": "code",
   "execution_count": 10,
   "id": "86b72f0b-6761-44e1-a143-ccfda9cea1a8",
   "metadata": {},
   "outputs": [
    {
     "name": "stdout",
     "output_type": "stream",
     "text": [
      "0.9897172236503856\n"
     ]
    }
   ],
   "source": [
    "# self implemented\n",
    "clf = AdaBoost(n_estimators=100)\n",
    "clf.fit(X_train, y_train)\n",
    "y_predicted = clf.predict(X_test)\n",
    "print(accuracy_score(y_test, y_predicted))"
   ]
  },
  {
   "cell_type": "code",
   "execution_count": 38,
   "id": "700e1333-ad0f-41f0-bb01-d9a8cdd94c1f",
   "metadata": {},
   "outputs": [
    {
     "name": "stdout",
     "output_type": "stream",
     "text": [
      "0.9897172236503856\n"
     ]
    }
   ],
   "source": [
    "# sklearn\n",
    "clf = AdaBoostClassifier(n_estimators=100, random_state=0)\n",
    "clf.fit(X_train, y_train)\n",
    "y_predicted = clf.predict(X_test)\n",
    "print(accuracy_score(y_test, y_predicted))"
   ]
  },
  {
   "cell_type": "code",
   "execution_count": 47,
   "id": "8cbc6f36-579c-4cbc-bc96-a8ff69d94659",
   "metadata": {},
   "outputs": [],
   "source": [
    "y = luad['Y'].to_numpy()\n",
    "X = luad.drop(columns = ['index', 'Y']).to_numpy()\n",
    "scaler = StandardScaler()\n",
    "X = scaler.fit_transform(X)\n",
    "\n",
    "X_train, X_test, y_train, y_test = train_test_split(X, y, test_size=0.33, random_state=42)"
   ]
  },
  {
   "cell_type": "code",
   "execution_count": 48,
   "id": "ae22a24a-ac92-4382-bebd-9ccc258c6662",
   "metadata": {},
   "outputs": [
    {
     "name": "stdout",
     "output_type": "stream",
     "text": [
      "0.9947089947089947\n"
     ]
    }
   ],
   "source": [
    "# self implemented\n",
    "clf = AdaBoost()\n",
    "clf.fit(X_train, y_train, iters=100)\n",
    "y_predicted = clf.predict(X_test)\n",
    "print(accuracy_score(y_test, y_predicted))"
   ]
  },
  {
   "cell_type": "code",
   "execution_count": 49,
   "id": "762a24e0-0e47-49cc-9fbc-6b4abab74f94",
   "metadata": {},
   "outputs": [
    {
     "name": "stdout",
     "output_type": "stream",
     "text": [
      "0.9947089947089947\n"
     ]
    }
   ],
   "source": [
    "# sklearn\n",
    "clf = AdaBoostClassifier(n_estimators=100, random_state=0)\n",
    "clf.fit(X_train, y_train)\n",
    "y_predicted = clf.predict(X_test)\n",
    "print(accuracy_score(y_test, y_predicted))"
   ]
  },
  {
   "cell_type": "code",
   "execution_count": null,
   "id": "1ac3ca65-8f51-46f0-a192-c0597bb08084",
   "metadata": {},
   "outputs": [],
   "source": []
  }
 ],
 "metadata": {
  "kernelspec": {
   "display_name": "Python 3 (ipykernel)",
   "language": "python",
   "name": "python3"
  },
  "language_info": {
   "codemirror_mode": {
    "name": "ipython",
    "version": 3
   },
   "file_extension": ".py",
   "mimetype": "text/x-python",
   "name": "python",
   "nbconvert_exporter": "python",
   "pygments_lexer": "ipython3",
   "version": "3.9.7"
  }
 },
 "nbformat": 4,
 "nbformat_minor": 5
}
