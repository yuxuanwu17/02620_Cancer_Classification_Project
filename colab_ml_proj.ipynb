{
  "nbformat": 4,
  "nbformat_minor": 0,
  "metadata": {
    "colab": {
      "name": "colab_ml_proj.ipynb",
      "provenance": []
    },
    "kernelspec": {
      "name": "python3",
      "display_name": "Python 3"
    },
    "language_info": {
      "name": "python"
    }
  },
  "cells": [
    {
      "cell_type": "code",
      "execution_count": null,
      "metadata": {
        "id": "yxG8LtcgMfXO"
      },
      "outputs": [],
      "source": [
        "import numpy as np\n",
        "import pandas as pd\n",
        "\n",
        "\n",
        "class Node:\n",
        "    def __init__(self):\n",
        "        # links to the left and right child nodes\n",
        "        self.right = None\n",
        "        self.left = None\n",
        "\n",
        "        # split criterion, recording the best split obtained\n",
        "        # also used in the prediction part to identify the suitable class\n",
        "        self.column = None\n",
        "        self.threshold = None\n",
        "\n",
        "        # probability for object inside the Node to belong for each of the given classes\n",
        "        self.probas = None\n",
        "        # depth of the given node\n",
        "        self.depth = None\n",
        "\n",
        "        # if it is the root Node or not\n",
        "        self.is_terminal = False\n",
        "\n",
        "\n",
        "class DecisionTreeClassifierImpl:\n",
        "    def __init__(self, max_depth=3, min_samples_leaf=1, min_samples_split=2, criterion=\"gini\"):\n",
        "        \"\"\"\n",
        "        :param max_depth:\n",
        "        The maximum depth of the tree. If None, then nodes are expanded until all leaves are pure or until all leaves contain less than min_samples_split samples.\n",
        "        :param min_samples_leaf:\n",
        "        The minimum number of samples required to be at a leaf node.\n",
        "        A split point at any depth will only be considered if it leaves at least min_samples_leaf training samples in each of the left and right branches.\n",
        "        This may have the effect of smoothing the model, especially in regression.\n",
        "        :param min_samples_split:\n",
        "        The minimum number of samples required to split an internal node:\n",
        "\n",
        "        \"\"\"\n",
        "        self.max_depth = max_depth\n",
        "        self.min_samples_leaf = min_samples_leaf\n",
        "        self.min_samples_split = min_samples_split\n",
        "\n",
        "        # Used to store unique class passed from target y\n",
        "        self.classes = None\n",
        "\n",
        "        # Decision tree itself\n",
        "        self.Tree = None\n",
        "\n",
        "        # Define the criterion\n",
        "        self.criterion = criterion\n",
        "\n",
        "    def node_probas(self, y):\n",
        "        \"\"\"\n",
        "        Calculates probability of one single class in a given node\n",
        "        :param y: given node y, one single class of label\n",
        "        :return: the probability of different class in a single node (np.array)\n",
        "        \"\"\"\n",
        "        probas = []\n",
        "\n",
        "        for one_class in self.classes:\n",
        "            num_rows = y.shape[0]\n",
        "            num_match_class = y[one_class == y].shape[0]\n",
        "            proba = num_match_class / num_rows\n",
        "            probas.append(proba)\n",
        "\n",
        "        return np.asarray(probas)\n",
        "\n",
        "    def gini(self, probas):\n",
        "        \"\"\"\n",
        "        gini impurity computes the degree of probability of a specific variable\n",
        "        https://en.wikipedia.org/wiki/Decision_tree_learning#Gini_impurity\n",
        "\n",
        "        :param probas: calculated from the previous node_probas function (np.array)\n",
        "        :return: gini impurity value\n",
        "        \"\"\"\n",
        "\n",
        "        return 1 - np.sum(probas ** 2)\n",
        "\n",
        "    def cross_entropy(self, probas):\n",
        "        \"\"\"\n",
        "        Calculates the mutual information gain criterion (entropy)\n",
        "        :return: cross entropy value\n",
        "        \"\"\"\n",
        "        # epsilon is required for\n",
        "        epsilon = 0.000001\n",
        "        return -np.sum(probas * np.log2(probas + epsilon))\n",
        "\n",
        "    def calculate_impurity(self, y):\n",
        "        \"\"\"\n",
        "        Wrapper for the impurity calculation. Calculates probas first and then passses them\n",
        "        to the gini criterion\n",
        "\n",
        "        :param y: numpy array obtained from the previous node_probas() method\n",
        "        :return: gini criterion\n",
        "        \"\"\"\n",
        "\n",
        "        if self.criterion == \"gini\":\n",
        "            return self.gini(self.node_probas(y))\n",
        "\n",
        "        if self.criterion == \"entropy\":\n",
        "            return self.cross_entropy(self.node_probas(y))\n",
        "\n",
        "        pass\n",
        "\n",
        "    def find_best_split(self, X, y):\n",
        "        \"\"\"\n",
        "        Calculate the best split based on the input X data and target y label\n",
        "        :param X: (numpy format)\n",
        "        :param y: (numpy format) with target label\n",
        "        :return: best_split_col, best_threshold, x_left, y_left, x_right, y_right\n",
        "        \"\"\"\n",
        "\n",
        "        # obtain the impurity before the split\n",
        "        impurity_before_split = self.calculate_impurity(y)\n",
        "\n",
        "        # initialize three variables to record the best parameter in the following for loop\n",
        "        best_threshold = None\n",
        "        best_split_col = None\n",
        "        best_info_gain = float('-inf')\n",
        "\n",
        "        num_col = X.shape[1]\n",
        "\n",
        "        # iterate through the columns\n",
        "        for col in range(num_col):\n",
        "            # for each single column, calculate the impurity\n",
        "            x_col = X[:, col]\n",
        "            # iterate through all the value in this columns and make comparison\n",
        "            for i in x_col:\n",
        "                # each row value as the threshold to calculate the impurity\n",
        "                inner_threshold = i\n",
        "\n",
        "                # identify the left child node\n",
        "                y_left = y[x_col <= inner_threshold]\n",
        "\n",
        "                # identify the right child node\n",
        "                y_right = y[x_col > inner_threshold]\n",
        "\n",
        "                # make some clean check to ensure the extreme case, where subtree has zero child.\n",
        "                if len(y_right) == 0 or len(y_left) == 0:\n",
        "                    continue\n",
        "\n",
        "                # impurity after the split\n",
        "                impurity_left = self.calculate_impurity(y_left)\n",
        "                impurity_right = self.calculate_impurity(y_right)\n",
        "\n",
        "                impurity_after_split = impurity_left * (len(y_left) / len(y)) + impurity_right * (len(y_right) / len(y))\n",
        "\n",
        "                # obtain the information gain\n",
        "                info_gain = impurity_before_split - impurity_after_split\n",
        "\n",
        "                # check whether higher than the best information gain\n",
        "                if info_gain > best_info_gain:\n",
        "                    best_split_col = col\n",
        "                    best_info_gain = info_gain\n",
        "                    best_threshold = inner_threshold\n",
        "\n",
        "        if best_info_gain == float('-inf'):\n",
        "            return None, None, None, None, None, None\n",
        "\n",
        "        # identify the best split and the regarding x, y data in each branch\n",
        "        X_col = X[:, best_split_col]\n",
        "        X_left, X_right = X[X_col <= best_threshold, :], X[X_col > best_threshold, :]\n",
        "        y_left, y_right = y[X_col <= best_threshold], y[X_col > best_threshold]\n",
        "\n",
        "        return best_split_col, best_threshold, X_left, X_right, y_left, y_right\n",
        "\n",
        "    def build_DTree(self, X, y, node):\n",
        "        \"\"\"\n",
        "        Recursively builds decision tree from the top to bottom\n",
        "\n",
        "        :param X: numpy array\n",
        "        :param y: numpy array\n",
        "        :param node: the current node, used to monitor condition, with depth recorded\n",
        "        :return:\n",
        "        \"\"\"\n",
        "\n",
        "        # Check the terminal condition\n",
        "        check_before_split = node.depth >= self.max_depth or len(X) < self.min_samples_split or len(np.unique(y)) == 0\n",
        "\n",
        "        if check_before_split:\n",
        "            node.is_terminal = True\n",
        "            return\n",
        "\n",
        "        best_split_col, best_threshold, X_left, X_right, y_left, y_right = self.find_best_split(X, y)\n",
        "\n",
        "        check_after_split = best_split_col == None or len(X_left) < self.min_samples_leaf or len(\n",
        "            X_right) < self.min_samples_leaf\n",
        "\n",
        "        if check_after_split:\n",
        "            node.is_terminal = True\n",
        "            return\n",
        "\n",
        "        # record the information of best split\n",
        "        node.column = best_split_col\n",
        "        node.threshold = best_threshold\n",
        "\n",
        "        # initialize the left and right node\n",
        "        left_node, right_node = Node(), Node()\n",
        "        left_node.depth, right_node.depth = node.depth + 1, node.depth + 1\n",
        "        left_node.probas, right_node.probas = self.node_probas(y_left), self.node_probas(y_right)\n",
        "\n",
        "        node.left = left_node\n",
        "        node.right = right_node\n",
        "\n",
        "        self.build_DTree(X_left, y_left, left_node)\n",
        "        self.build_DTree(X_right, y_right, right_node)\n",
        "\n",
        "    def fit(self, X, y):\n",
        "        \"\"\"\n",
        "        Standard fit function to run all the model training\n",
        "\n",
        "        :param X: pd.DataFrame or numpy array, if pd, need to convert to acceptable size\n",
        "        :param y: the target label, numpy format\n",
        "        :return: noting\n",
        "        \"\"\"\n",
        "        if type(X) == pd.DataFrame:\n",
        "            X = np.asarray(X)\n",
        "\n",
        "        self.classes = np.unique(y)\n",
        "\n",
        "        # Initialize the root node object, depth, the impurity value at first node\n",
        "        self.Tree = Node()\n",
        "        self.Tree.depth = 1\n",
        "        self.Tree.probas = self.calculate_impurity(y)\n",
        "\n",
        "        # init and conduct the whole decision tree training by calling build_DTree\n",
        "        self.build_DTree(X, y, self.Tree)\n",
        "\n",
        "    def predict_sample(self, X, node):\n",
        "        \"\"\"\n",
        "        iteratively predict the sample label's probability based on the best split columns and best threshold\n",
        "        obtained from the previous training.\n",
        "        :param X: the input data for prediction\n",
        "        :param node:\n",
        "        :return:\n",
        "        \"\"\"\n",
        "\n",
        "        if node.is_terminal:\n",
        "            return node.probas\n",
        "\n",
        "        if X[node.column] > node.threshold:\n",
        "            probas = self.predict_sample(X, node.right)\n",
        "        else:\n",
        "            probas = self.predict_sample(X, node.left)\n",
        "\n",
        "        return probas\n",
        "\n",
        "    def predict(self, X):\n",
        "        \"\"\"\n",
        "        predict api for the class given testing data\n",
        "        :param X:\n",
        "        :return:\n",
        "        \"\"\"\n",
        "        if type(X) == pd.DataFrame:\n",
        "            X = np.asarray(X)\n",
        "\n",
        "        predictions = []\n",
        "\n",
        "        for i in X:\n",
        "            pred_label = np.argmax(self.predict_sample(i, self.Tree))\n",
        "            predictions.append(pred_label)\n",
        "\n",
        "        return np.asarray(predictions)\n"
      ]
    },
    {
      "cell_type": "code",
      "source": [
        "import pandas as pd\n",
        "import numpy as np \n",
        "BRCA = pd.read_csv(\"/content/drive/MyDrive/ml_project/data/BRCA.txt\", delimiter=\"\\t\")\n",
        "columns = BRCA.columns\n",
        "# y labels\n",
        "Y = [1 if i[-3:] == '11A' else 0 for i in columns]\n",
        "BRCA = BRCA.T\n",
        "BRCA['Y'] = Y"
      ],
      "metadata": {
        "id": "3EdWj_P3Mz48"
      },
      "execution_count": 1,
      "outputs": []
    },
    {
      "cell_type": "code",
      "source": [
        "import pandas as pd\n",
        "from sklearn.preprocessing import StandardScaler\n",
        "from sklearn.model_selection import GridSearchCV\n",
        "from sklearn.model_selection import train_test_split\n",
        "from sklearn.datasets import load_iris\n",
        "import pandas as pd\n",
        "import numpy as np\n",
        "from sklearn.model_selection import train_test_split\n",
        "from sklearn.tree import DecisionTreeClassifier\n",
        "from sklearn.metrics import confusion_matrix, accuracy_score\n",
        "import warnings"
      ],
      "metadata": {
        "id": "NI_ovOBaM3-A"
      },
      "execution_count": 2,
      "outputs": []
    },
    {
      "cell_type": "code",
      "source": [
        "df = BRCA\n",
        "training_data, testing_data = train_test_split(df, test_size=0.2, random_state=25, shuffle=True)\n",
        "y_train = training_data['Y']\n",
        "y_test = testing_data['Y']\n",
        "X_train = StandardScaler().fit_transform(training_data.drop(\"Y\", axis=1))\n",
        "X_test = StandardScaler().fit_transform(testing_data.drop(\"Y\", axis=1))\n",
        "\n",
        "clf = DecisionTreeClassifier(max_depth=10, min_samples_leaf=2, min_samples_split=2, criterion=\"entropy\")\n",
        "# clf = DecisionTreeClassifierImpl(max_depth=10, min_samples_leaf=2, min_samples_split=2, criterion=\"entropy\")\n",
        "clf.fit(X_train, y_train)\n",
        "y_pred = clf.predict(X_test)\n",
        "cm = confusion_matrix(y_test, y_pred)\n",
        "ac = accuracy_score(y_test, y_pred)\n",
        "print(cm)\n",
        "print(ac)\n",
        "\n",
        "# clf.coef_.ravel()"
      ],
      "metadata": {
        "id": "x5wCihh7M8DX",
        "colab": {
          "base_uri": "https://localhost:8080/"
        },
        "outputId": "b67a5d85-4743-4ab3-effb-ceddab704aad"
      },
      "execution_count": 7,
      "outputs": [
        {
          "output_type": "stream",
          "name": "stdout",
          "text": [
            "[[214   1]\n",
            " [  3  18]]\n",
            "0.9830508474576272\n"
          ]
        }
      ]
    },
    {
      "cell_type": "code",
      "source": [
        "import pandas as pd\n",
        "from sklearn.preprocessing import StandardScaler\n",
        "from sklearn.model_selection import GridSearchCV\n",
        "from sklearn.model_selection import train_test_split\n",
        "from sklearn.datasets import load_iris\n",
        "import pandas as pd\n",
        "import numpy as np\n",
        "from sklearn.model_selection import train_test_split\n",
        "from sklearn.tree import DecisionTreeClassifier\n",
        "from sklearn.metrics import confusion_matrix, accuracy_score\n",
        "# from decision_tree import *\n",
        "from sklearn.model_selection import LeaveOneOut\n",
        "from sklearn.metrics import accuracy_score, f1_score, precision_score, recall_score, matthews_corrcoef\n",
        "from sklearn.metrics import roc_auc_score, average_precision_score\n",
        "from prettytable import PrettyTable\n",
        "import warnings\n",
        "\n",
        "df = BRCA\n",
        "training_data, testing_data = train_test_split(df, test_size=0.2, random_state=25, shuffle=True)\n",
        "y_train = training_data['Y']\n",
        "y_test = testing_data['Y']\n",
        "X_train = training_data.drop(\"Y\", axis=1)\n",
        "X_test = testing_data.drop(\"Y\", axis=1)\n",
        "\n",
        "# loo = LeaveOneOut()\n",
        "param_grid = {'max_depth': [10], 'min_samples_leaf': [2], 'min_samples_split': [2]}\n",
        "clf = GridSearchCV(\n",
        "    DecisionTreeClassifier(criterion=\"entropy\"), param_grid=param_grid,\n",
        "    cv=LeaveOneOut(), verbose=True)\n",
        "# clf = DecisionTreeClassifierImpl(max_depth=10, min_samples_leaf=2, min_samples_split=2, criterion=\"entropy\")\n",
        "clf.fit(X_train, y_train)\n",
        "y_pred = clf.predict(X_test)\n",
        "\n",
        "\n",
        "accuracy_scores = []\n",
        "f1_scores = []\n",
        "recall_scores = []\n",
        "precision_scores = []\n",
        "MCCs = []\n",
        "auROCs = []\n",
        "auPRCs = []\n",
        "\n",
        "accuracy_scores.append(accuracy_score(y_true=y_test, y_pred=y_pred))\n",
        "f1_scores.append(f1_score(y_true=y_test, y_pred=y_pred))\n",
        "recall_scores.append(recall_score(y_true=y_test, y_pred=y_pred))\n",
        "precision_scores.append(precision_score(y_true=y_test, y_pred=y_pred))\n",
        "MCCs.append(matthews_corrcoef(y_true=y_test, y_pred=y_pred))\n",
        "auROCs.append(roc_auc_score(y_true=y_test, y_score=clf.predict_proba(X_test)[:, 1]))\n",
        "auPRCs.append(average_precision_score(y_true=y_test, y_score=clf.predict_proba(X_test)[:, 0]))\n",
        "\n",
        "table = PrettyTable()\n",
        "column_names = ['Accuracy', 'auROC', 'auPRC', 'recall', 'precision', 'f1', 'MCC']\n",
        "table.add_column(column_names[0], np.round(accuracy_scores, 4))\n",
        "table.add_column(column_names[1], np.round(auROCs, 4))\n",
        "table.add_column(column_names[2], np.round(auPRCs, 4))\n",
        "table.add_column(column_names[3], np.round(recall_scores, 4))\n",
        "table.add_column(column_names[4], np.round(precision_scores, 4))\n",
        "table.add_column(column_names[5], np.round(f1_scores, 4))\n",
        "table.add_column(column_names[6], np.round(MCCs, 4))\n",
        "\n",
        "print(table)\n",
        "\n"
      ],
      "metadata": {
        "id": "ry93SjdxNG5a",
        "colab": {
          "base_uri": "https://localhost:8080/"
        },
        "outputId": "cc839011-e0e7-4b33-f14c-f67a2e78ed9b"
      },
      "execution_count": null,
      "outputs": [
        {
          "output_type": "stream",
          "name": "stdout",
          "text": [
            "Fitting 942 folds for each of 1 candidates, totalling 942 fits\n",
            "[[215   0]\n",
            " [  2  19]]\n",
            "0.9915254237288136\n",
            "+----------+--------+--------+--------+-----------+------+--------+\n",
            "| Accuracy | auROC  | auPRC  | recall | precision |  f1  |  MCC   |\n",
            "+----------+--------+--------+--------+-----------+------+--------+\n",
            "|  0.9915  | 0.9524 | 0.0814 | 0.9048 |    1.0    | 0.95 | 0.9468 |\n",
            "+----------+--------+--------+--------+-----------+------+--------+\n"
          ]
        }
      ]
    },
    {
      "cell_type": "code",
      "source": [
        "%matplotlib inline\n",
        "import matplotlib.pyplot as plt\n",
        "from sklearn.metrics import confusion_matrix, plot_confusion_matrix\n",
        "plot_confusion_matrix(clf, X_test, y_test)\n",
        "plt.title(\"Logistic Regression Model - Confusion Matrix\")\n",
        "plt.xticks(range(2), [\"Admit\", \"Discharge\"], fontsize=8)\n",
        "plt.yticks(range(2), [\"Admit\", \"Discharge\"], fontsize=8)\n",
        "plt.show()"
      ],
      "metadata": {
        "colab": {
          "base_uri": "https://localhost:8080/",
          "height": 349
        },
        "id": "pvtyzDsD7YyZ",
        "outputId": "a0835f52-7075-4a23-e45c-111e75bda7f7"
      },
      "execution_count": null,
      "outputs": [
        {
          "output_type": "stream",
          "name": "stderr",
          "text": [
            "/usr/local/lib/python3.7/dist-packages/sklearn/utils/deprecation.py:87: FutureWarning: Function plot_confusion_matrix is deprecated; Function `plot_confusion_matrix` is deprecated in 1.0 and will be removed in 1.2. Use one of the class methods: ConfusionMatrixDisplay.from_predictions or ConfusionMatrixDisplay.from_estimator.\n",
            "  warnings.warn(msg, category=FutureWarning)\n"
          ]
        },
        {
          "output_type": "display_data",
          "data": {
            "text/plain": [
              "<Figure size 432x288 with 2 Axes>"
            ],
            "image/png": "[encoded data removed]"
          },
          "metadata": {
            "needs_background": "light"
          }
        }
      ]
    },
    {
      "cell_type": "code",
      "source": [
        "from sklearn.metrics import plot_roc_curve, plot_precision_recall_curve\n",
        "plot_precision_recall_curve(clf, X_test, y_test, pos_label=1)"
      ],
      "metadata": {
        "colab": {
          "base_uri": "https://localhost:8080/",
          "height": 351
        },
        "id": "UFMIux3q8SWM",
        "outputId": "3b1ef89c-b3df-4cfd-de8a-beb9767d0ff9"
      },
      "execution_count": null,
      "outputs": [
        {
          "output_type": "stream",
          "name": "stderr",
          "text": [
            "/usr/local/lib/python3.7/dist-packages/sklearn/utils/deprecation.py:87: FutureWarning: Function plot_precision_recall_curve is deprecated; Function `plot_precision_recall_curve` is deprecated in 1.0 and will be removed in 1.2. Use one of the class methods: PrecisionRecallDisplay.from_predictions or PrecisionRecallDisplay.from_estimator.\n",
            "  warnings.warn(msg, category=FutureWarning)\n"
          ]
        },
        {
          "output_type": "execute_result",
          "data": {
            "text/plain": [
              "<sklearn.metrics._plot.precision_recall_curve.PrecisionRecallDisplay at 0x7fc082753110>"
            ]
          },
          "metadata": {},
          "execution_count": 10
        },
        {
          "output_type": "display_data",
          "data": {
            "text/plain": [
              "<Figure size 432x288 with 1 Axes>"
            ],
            "image/png": "[encoded data removed]"
          },
          "metadata": {
            "needs_background": "light"
          }
        }
      ]
    },
    {
      "cell_type": "code",
      "source": [
        "plot_roc_curve(clf, X_test, y_test, pos_label=1)\n"
      ],
      "metadata": {
        "colab": {
          "base_uri": "https://localhost:8080/",
          "height": 351
        },
        "id": "4cqiL1tF8S_l",
        "outputId": "c970d717-9560-47bc-f1ed-f9e135c7008b"
      },
      "execution_count": null,
      "outputs": [
        {
          "output_type": "stream",
          "name": "stderr",
          "text": [
            "/usr/local/lib/python3.7/dist-packages/sklearn/utils/deprecation.py:87: FutureWarning: Function plot_roc_curve is deprecated; Function :func:`plot_roc_curve` is deprecated in 1.0 and will be removed in 1.2. Use one of the class methods: :meth:`sklearn.metric.RocCurveDisplay.from_predictions` or :meth:`sklearn.metric.RocCurveDisplay.from_estimator`.\n",
            "  warnings.warn(msg, category=FutureWarning)\n"
          ]
        },
        {
          "output_type": "execute_result",
          "data": {
            "text/plain": [
              "<sklearn.metrics._plot.roc_curve.RocCurveDisplay at 0x7fc08273c750>"
            ]
          },
          "metadata": {},
          "execution_count": 11
        },
        {
          "output_type": "display_data",
          "data": {
            "text/plain": [
              "<Figure size 432x288 with 1 Axes>"
            ],
            "image/png": "[encoded data removed]"
          },
          "metadata": {
            "needs_background": "light"
          }
        }
      ]
    },
    {
      "cell_type": "code",
      "source": [
        ""
      ],
      "metadata": {
        "id": "bNPYMQdx8WJh"
      },
      "execution_count": null,
      "outputs": []
    }
  ]
}